{
 "cells": [
  {
   "cell_type": "markdown",
   "id": "c5fbb3ad",
   "metadata": {},
   "source": [
    "# Crear un mapa de SLAM\n",
    "\n",
    "En esta actividad, se creará un mapa de SLAM (simultaneous localization and mapping) de forma automática. Hay que empezar a hacer *mapping* y crear suscripciones a los websockets del IMU (intertial measurement unit) y del sistema de SLAM, que tienen información relevante. Después, hay que hacer que el robot gire para ayudarlo a obtener *pose*. Luego, se hace que el robot se mueva en cruz para que haga un mapa. Finalmente, hay que detener el *mapping* y mostrar el mapa obtenido.\n",
    "\n",
    "Para contestar la actividad, sustituye los elipses (...) en cada celda con los elementos descritos."
   ]
  },
  {
   "cell_type": "markdown",
   "id": "6ae4d120",
   "metadata": {},
   "source": [
    "Primero hay que importar los módulos necesarios. El objeto `misty.Robot` permite interactuar con el wrapper, `numpy` sirve para hacer manipulaciones de matrices y `matplotlib` hace visualizaciones con los datos (relevante para el mapa). Se usa el módulo `random` para generar identificadores para las suscripciones a los WebSockets, y `time` permite esperar entre comandos."
   ]
  },
  {
   "cell_type": "code",
   "execution_count": 1,
   "id": "98ff39ef",
   "metadata": {},
   "outputs": [],
   "source": [
    "from misty import Robot\n",
    "from random import randrange\n",
    "import numpy as np\n",
    "import matplotlib.pyplot as plt\n",
    "import time"
   ]
  },
  {
   "cell_type": "markdown",
   "id": "2245a08d",
   "metadata": {},
   "source": [
    "## Crear objeto de `Robot`\n",
    "\n",
    "Hay que crear una instancia del objeto `Robot`, que permite interactuar con el Misty a través de su API. Su constructor sólo requiere pasar la dirección IP como `str`. Puedes obtener la dirección IP con la aplicación de Misty.\n",
    "\n",
    "Además, hay que definir una variable `debounce` para usarla como parámetro en las suscripciones a websockets. Representa qué tanto tiempo va a transcurrir entre cada vez que el websocket manda información (en milisegundos)."
   ]
  },
  {
   "cell_type": "code",
   "execution_count": null,
   "id": "57fb8f84",
   "metadata": {},
   "outputs": [],
   "source": [
    "alfredo = Robot(...)\n",
    "debounce = 250\n",
    "\n",
    "# crear identificadores unicos\n",
    "slam = 'slam' + str(randrange(0, 999))\n",
    "imu = 'imu' + str(randrange(0, 999))\n",
    "\n",
    "\"\"\" ---------- solucion ----------\n",
    "alfredo = Robot('192.168.1.81')\n",
    "debounce = 250\n",
    "\n",
    "# crear identificadores unicos\n",
    "slam = 'slam' + str(randrange(0, 999))\n",
    "imu = 'imu' + str(randrange(0, 999))\n",
    "\"\"\""
   ]
  },
  {
   "cell_type": "markdown",
   "id": "5a0e951c",
   "metadata": {},
   "source": [
    "## Comenzar a hacer mapas y crear suscripciones de websockets\n",
    "\n",
    "Ahora, es necesario indicarle al Misty que comience a hacer un mapa. Primero, hay que asegurarse de que su cabeza esté enderezada para que alcance a \"ver\" los objetos a su alrededor. En el sistema de coordenadas de Misty, esto corresponde a la posición $(0,0,0)$. \n",
    "\n",
    "Luego, hay que asegurarse de que Misty no esté ya haciendo mapping y que los sensores de SLAM estén listos. Para esto, se utiliza el método `stop_mapping` y `reset_slam`. Ahora se puede llamar el método `start_mapping()` de la instancia de `Robot` para comenzar el mapa.\n",
    "\n",
    "Después, hay que crear objetos que representen a los websockets del status de SLAM y del IMU a través del objeto de `Robot`. Al hacerlo, hay que pasar un parámetro de `event_name`, que es un identificador único de la suscripción que se va a hacer (puede ser cualquier `str`). Estos objetos quedan almacenados en el diccionario de `websockets` del robot, y cada uno puede accesarse a través de su identificador único. Hay que accesar estos objetos y llamar el método `subscribe` para iniciar las suscripciones. Las suscripciones permiten recibir información del Robot que emite desde distintos websockets. En este caso, puesto que se busca hacer un mapa de SLAM, es relevante el status de SLAM y los valores de posición del robot."
   ]
  },
  {
   "cell_type": "code",
   "execution_count": null,
   "id": "9d5c2485",
   "metadata": {},
   "outputs": [],
   "source": [
    "# comenzar a mapear\n",
    "alfredo.stop_mapping()\n",
    "print('stopping mapping...')\n",
    "time.sleep(5)\n",
    "alfredo....()\n",
    "print('resetting SLAM...')\n",
    "time.sleep(10)\n",
    "alfredo.start_mapping()\n",
    "print('starting mapping...')\n",
    "\n",
    "# suscribirse a slam \n",
    "alfredo.add_slam_status(slam, debounce=debounce)\n",
    "alfredo.websockets[...].subscribe()\n",
    "\n",
    "# suscribirse a imu \n",
    "alfredo.add_imu(imu, debounce=debounce)\n",
    "...\n",
    "\n",
    "\"\"\" ---------- solucion ----------\n",
    "# comenzar a mapear\n",
    "alfredo.stop_mapping()\n",
    "print('stopping mapping...')\n",
    "time.sleep(5)\n",
    "alfredo.reset_slam()\n",
    "print('resetting SLAM...')\n",
    "time.sleep(10)\n",
    "alfredo.start_mapping()\n",
    "print('starting mapping...')\n",
    "\n",
    "# suscribirse a slam \n",
    "alfredo.add_slam_status('slam', debounce=debounce)\n",
    "alfredo.websockets['slam'].subscribe()\n",
    "\n",
    "# suscribirse a imu \n",
    "alfredo.add_imu('imu', debounce=debounce)\n",
    "alfredo.websockets['imu'].subscribe()\n",
    "\"\"\""
   ]
  },
  {
   "cell_type": "markdown",
   "id": "3dec1f8b",
   "metadata": {},
   "source": [
    "## Obtener pose\n",
    "\n",
    "Para que Misty pueda crear mapas, es necesario que tenga *pose*. Esto significa que sepa dónde está dentro del espacio (su orientación, posición, etc.). Dependiendo del espacio en que se encuentre (si hay poco contraste, si hay pocos objetos, si hay poca luz, etc.), puede ser difícil que obtenga pose. El proceso puede facilitarse si se hace que Misty gire lentamente alrededor de su propio eje.\n",
    "\n",
    "1. Vamos a utilizar el método `drive_time` para hacer que el robot gire una cierta cantidad de tiempo. Toma como argumentos a `linear_velocity`, `angular_velocity` (como porcentajes de las velocidades máximas que logra el robot, entre -100 y 100) y `time_ms` (en ms). Queremos que gire al 20% de su velocidad angular máxima.\n",
    "1. Se declara una variable que almacena si ya se tiene pose o no.\n",
    "1. Se comienza un bucle que debe repetirse mientras no se tenga pose y todavía no acabe el tiempo de espera.\n",
    "    1. Se obtiene un valor del websocket de SLAM, que es un diccionario con varios elementos que representan información del sistema de SLAM (ver documentación). Una forma de ver si el robot tiene pose es a través de la lista que contiene el `statusList` dentro de `slamStatus` del diccionario obtenido; si contiene a la cadena `HasPose`, significa que el robot tiene pose.\n",
    "    1. Si `statusList` contiene a `HasPose`, entonces hay que cambiar a la variable que almacena si se tiene pose.\n",
    "1. Cuando se obtenga pose, el robot debe detenerse. La función `stop` hace que se detengan los actuadores de Misty."
   ]
  },
  {
   "cell_type": "code",
   "execution_count": null,
   "id": "46005ba1",
   "metadata": {},
   "outputs": [],
   "source": [
    "# girar hasta obtener pose\n",
    "wait_time = 30 # segundos\n",
    "alfredo.drive_time(0, ..., ... * 1000) # vel angular de 5%\n",
    "has_pose = ...\n",
    "start_time = time.time() # obtiene el tiempo en ese instante (en s)\n",
    "\n",
    "while not has_pose and (time.time() - start_time < ...):\n",
    "    slamMes = alfredo.websockets[slam].get_message()\n",
    "    if 'HasPose' in slamMes['slamStatus']['...']:\n",
    "        has_pose = True\n",
    "alfredo....()\n",
    "\n",
    "\"\"\"\n",
    "# girar hasta obtener pose\n",
    "wait_time = 30 # segundos\n",
    "alfredo.drive_time(0, 20, wait_time * 1000) # vel angular de 5%\n",
    "has_pose = False\n",
    "start_time = time.time() # obtiene el tiempo en ese instante (en s)\n",
    "\n",
    "while not has_pose and (time.time() - start_time < wait_time):\n",
    "    slamMes = alfredo.websockets[slam].get_message()\n",
    "    if 'HasPose' in slamMes['slamStatus']['statusList']:\n",
    "        has_pose = True\n",
    "alfredo.stop()\n",
    "\"\"\""
   ]
  },
  {
   "cell_type": "markdown",
   "id": "9115dc17",
   "metadata": {},
   "source": [
    "## Desplazar a Misty para crear mapa\n",
    "\n",
    "En este punto, Misty puede hacer un mapa del espacio en que se encuentra. Para lograrlo, vamos a hacer que Misty se desplace en forma de una cruz y dé una vuelta en cada extremo. Las funciones de movimiento a través del API de REST que utiliza el wrapper de Python son inestables, así que se va a usar un programa de JS llamado `Cross.js`. Para que Misty pueda usarlo, también requiere de un archivo `Cross.json`.\n",
    "\n",
    "Se manda el conjunto de archivos a Misty dentro de un fichero zip (`Cross.zip`). Se utiliza el método `save_skill` para esto, que toma los siguientes parámetros:\n",
    "1. `file`: la ruta del zip que se va a mandar\n",
    "1. `immediately_apply`: indica si el programa debe ejecutarse inmediatamente (en este caso, sí)\n",
    "1. `overwrite_existing`: si se debe sobreescribir archivos existentes del mismo nombre"
   ]
  },
  {
   "cell_type": "code",
   "execution_count": 2,
   "id": "47ba2d3f",
   "metadata": {},
   "outputs": [
    {
     "ename": "NameError",
     "evalue": "name 'alfredo' is not defined",
     "output_type": "error",
     "traceback": [
      "\u001b[0;31m---------------------------------------------------------------------------\u001b[0m",
      "\u001b[0;31mNameError\u001b[0m                                 Traceback (most recent call last)",
      "\u001b[0;32m<ipython-input-2-8b03da09567e>\u001b[0m in \u001b[0;36m<module>\u001b[0;34m\u001b[0m\n\u001b[1;32m      2\u001b[0m \u001b[0mpath\u001b[0m \u001b[0;34m=\u001b[0m \u001b[0;34m...\u001b[0m\u001b[0;34m\u001b[0m\u001b[0;34m\u001b[0m\u001b[0m\n\u001b[1;32m      3\u001b[0m \u001b[0;34m\u001b[0m\u001b[0m\n\u001b[0;32m----> 4\u001b[0;31m \u001b[0malfredo\u001b[0m\u001b[0;34m.\u001b[0m\u001b[0msave_skill\u001b[0m\u001b[0;34m(\u001b[0m\u001b[0;34m...\u001b[0m\u001b[0;34m,\u001b[0m \u001b[0;34m...\u001b[0m\u001b[0;34m,\u001b[0m \u001b[0mtrue\u001b[0m\u001b[0;34m)\u001b[0m\u001b[0;34m\u001b[0m\u001b[0;34m\u001b[0m\u001b[0m\n\u001b[0m\u001b[1;32m      5\u001b[0m \u001b[0;34m\u001b[0m\u001b[0m\n\u001b[1;32m      6\u001b[0m \"\"\"\n",
      "\u001b[0;31mNameError\u001b[0m: name 'alfredo' is not defined"
     ]
    }
   ],
   "source": [
    "# ruta del archivo\n",
    "path = ...\n",
    "\n",
    "alfredo.save_skill(..., ..., true)\n",
    "\n",
    "\"\"\"\n",
    "# ruta del archivo\n",
    "path = pendiente\n",
    "\n",
    "alfredo.save_skill(path, true, true)\n",
    "\"\"\""
   ]
  },
  {
   "cell_type": "markdown",
   "id": "98c4c51e",
   "metadata": {},
   "source": [
    "## Mostrar el mapa obtenido\n",
    "\n",
    "Después de que el robot se haya movido, es posible ver el mapa que hizo. Para eso, se necesita la función `get_map`. Regresa un diccionario con información acerca del mapa. Se van a utilizar tres de los valores que contiene:\n",
    "\n",
    "- `slam_map['grid']`: Lista que contiene los valores para cada punto sobre la cuadrícula del mapa.\n",
    "- `slam_map['height']`: La cantidad de hileras en la cuadrícula del mapa.\n",
    "- `slam_map['width']`: La cantidad de columnas en la cuadrícula del mapa.\n",
    "\n",
    "Después de obtener el mapa, hay que detener el proceso de mapeo con `stop_mapping`. Esto desactiva algunos sensores, lo que ayuda a que la batería de Misty no se agote tan rápido.\n",
    "\n",
    "Finalmente, se muestra la cuadrícula del mapa con `matplotlib`."
   ]
  },
  {
   "cell_type": "code",
   "execution_count": null,
   "id": "755ab59b",
   "metadata": {},
   "outputs": [],
   "source": [
    "# obtener mapa\n",
    "slam_map = alfredo.get_map()\n",
    "grid = np.reshape(slam_map['grid'], (..., ...)) # altura, ancho\n",
    "\n",
    "# dejar de mapear\n",
    "alfredo....()\n",
    "\n",
    "# desuscribirse de websockets\n",
    "alfredo.websockets[slam].unsubscribe()\n",
    "alfredo.websockets[...].unsubscribe()\n",
    "\n",
    "# mostrar mapa\n",
    "plt.pcolormesh(...)\n",
    "plt.colorbar()\n",
    "plt.show()\n",
    "\n",
    "\"\"\" ---------- solucion ----------\n",
    "# obtener mapa\n",
    "slam_map = alfredo.get_map()\n",
    "grid = np.reshape(slam_map['grid'], (slam_map['height'], slam_map['width']))\n",
    "\n",
    "# dejar de mapear\n",
    "alfredo.stop_mapping()\n",
    "\n",
    "# desuscribirse de websockets\n",
    "alfredo.websockets[slam].unsubscribe()\n",
    "alfredo.websockets[imu].unsubscribe()\n",
    "\n",
    "# mostrar mapa\n",
    "plt.pcolormesh(grid)\n",
    "plt.colorbar()\n",
    "plt.show()\n",
    "\"\"\""
   ]
  }
 ],
 "metadata": {
  "kernelspec": {
   "display_name": "Python 3",
   "language": "python",
   "name": "python3"
  },
  "language_info": {
   "codemirror_mode": {
    "name": "ipython",
    "version": 3
   },
   "file_extension": ".py",
   "mimetype": "text/x-python",
   "name": "python",
   "nbconvert_exporter": "python",
   "pygments_lexer": "ipython3",
   "version": "3.9.5"
  }
 },
 "nbformat": 4,
 "nbformat_minor": 5
}
